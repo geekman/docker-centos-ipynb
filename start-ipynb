#!/bin/bash

chown ipynb /notebooks
chmod 0700  /notebooks
exec su ipynb --session-command="/usr/bin/ipython notebook $*"

